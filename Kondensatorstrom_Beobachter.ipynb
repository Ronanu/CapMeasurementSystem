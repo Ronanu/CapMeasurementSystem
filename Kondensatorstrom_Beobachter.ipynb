{
 "cells": [
  {
   "cell_type": "markdown",
   "id": "c37f14c9",
   "metadata": {},
   "source": [
    "\n",
    "# **Berechnung der Beobachterverstärkung für einen Kondensatorstrombeobachter**\n",
    "\n",
    "Dieses Notebook berechnet die Verstärkungen \\( L_1 \\) und \\( L_2 \\) für einen Luenberger-Beobachter,\n",
    "der den Kondensatorstrom \\( I_C \\) aus der Spannung \\( V \\) rekonstruiert.\n",
    "\n",
    "## **1. Systembeschreibung**\n",
    "Das System besteht aus einem Kondensator mit Kapazität \\( C \\) und einem Innenwiderstand \\( R_s \\).\n",
    "Die einzige messbare Größe ist die Spannung \\( V \\), aus der der Strom \\( I_C \\) rekonstruiert werden soll.\n",
    "\n",
    "Die Grundgleichungen sind:\n",
    "\n",
    "\\begin{equation}\n",
    "I_C = C \\frac{dV_C}{dt}\n",
    "\\end{equation}\n",
    "\n",
    "\\begin{equation}\n",
    "V = V_C + R_s I_C.\n",
    "\\end{equation}\n",
    "\n",
    "Definiert man die Zustandsvariablen als:\n",
    "\n",
    "\\begin{equation}\n",
    "x_1 = V_C, \\quad x_2 = I_C,\n",
    "\\end{equation}\n",
    "\n",
    "ergibt sich die Zustandsraumdarstellung:\n",
    "\n",
    "\\begin{equation}\n",
    "\\dot{x} =\n",
    "\\begin{bmatrix} \n",
    "0 & \\frac{1}{C} \\\\ \n",
    "0 & 0 \n",
    "\\end{bmatrix} x,\n",
    "\\end{equation}\n",
    "\n",
    "\\begin{equation}\n",
    "y = \n",
    "\\begin{bmatrix} 1 & R_s \\end{bmatrix} x.\n",
    "\\end{equation}\n",
    "\n",
    "Da nur die Spannung \\( y = V \\) messbar ist, wird ein Beobachter zur Schätzung von \\( I_C \\) entworfen.\n"
   ]
  },
  {
   "cell_type": "markdown",
   "id": "5e66ed17",
   "metadata": {},
   "source": [
    "\n",
    "## **2. Systemparameter**\n",
    "Für die Berechnung der Verstärkungen werden folgende Werte angenommen:\n",
    "\n",
    "- Kapazität: \\( C = 50 \\) F\n",
    "- Innenwiderstand: \\( R_s = 22.0 \\) mΩ\n",
    "- Kondensatorspannung: \\( V = 3 \\) V\n",
    "\n",
    "Diese Werte beeinflussen die numerische Berechnung, jedoch nicht die symbolische Herleitung.\n"
   ]
  },
  {
   "cell_type": "markdown",
   "id": "845eb9f4",
   "metadata": {},
   "source": [
    "\n",
    "## **3. Fehlerdynamik und Eigenwerte**\n",
    "Die Fehlerdynamik wird beschrieben durch:\n",
    "\n",
    "\\begin{equation}\n",
    "\\dot{e} = (A - L C) e.\n",
    "\\end{equation}\n",
    "\n",
    "Mit:\n",
    "\n",
    "\\begin{equation}\n",
    "A - L C =\n",
    "\\begin{bmatrix} \n",
    "- L_1 & \\frac{1}{C} - L_1 R_s \\\\ \n",
    "- L_2 & - L_2 R_s\n",
    "\\end{bmatrix}.\n",
    "\\end{equation}\n",
    "\n",
    "Die charakteristische Gleichung lautet:\n",
    "\n",
    "\\begin{equation}\n",
    "\\lambda^2 + (L_1 + L_2 R_s) \\lambda + L_1 L_2 R_s - L_2 \\frac{1}{C} = 0.\n",
    "\\end{equation}\n",
    "\n",
    "Für eine stabile Beobachterdynamik setzen wir doppelte Pole bei \\( \\lambda = -\\alpha \\):\n",
    "\n",
    "\\begin{equation}\n",
    "(\\lambda + \\alpha)^2 = \\lambda^2 + 2\\alpha \\lambda + \\alpha^2.\n",
    "\\end{equation}\n",
    "\n",
    "Daraus ergeben sich die Gleichungen zur Bestimmung von \\( L_1 \\) und \\( L_2 \\).\n"
   ]
  },
  {
   "cell_type": "markdown",
   "id": "8cb9c6a6",
   "metadata": {},
   "source": [
    "\n",
    "### **3.1 Symbolische Berechnung der Verstärkungen**\n",
    "\n",
    "Die Verstärkungen \\( L_1 \\) und \\( L_2 \\) ergeben sich aus:\n",
    "\n",
    "\\begin{equation}\n",
    "L_1 + L_2 R_s = 2 \\alpha\n",
    "\\end{equation}\n",
    "\n",
    "\\begin{equation}\n",
    "L_1 L_2 R_s - L_2 \\frac{1}{C} = \\alpha^2.\n",
    "\\end{equation}\n",
    "\n",
    "Symbolische Berechnung mit **SymPy**:\n"
   ]
  },
  {
   "cell_type": "code",
   "execution_count": 9,
   "id": "46580582",
   "metadata": {},
   "outputs": [
    {
     "data": {
      "text/plain": [
       "{L1: -Rs*(-sqrt(-4*C*Rs*alpha + 1)/(2*C*Rs**2) + (2*C*Rs*alpha - 1)/(2*C*Rs**2)) + 2*alpha,\n",
       " L2: -sqrt(-4*C*Rs*alpha + 1)/(2*C*Rs**2) + (2*C*Rs*alpha - 1)/(2*C*Rs**2)}"
      ]
     },
     "metadata": {},
     "output_type": "display_data"
    },
    {
     "data": {
      "text/plain": [
       "{L1: -Rs*(sqrt(-4*C*Rs*alpha + 1)/(2*C*Rs**2) + (2*C*Rs*alpha - 1)/(2*C*Rs**2)) + 2*alpha,\n",
       " L2: sqrt(-4*C*Rs*alpha + 1)/(2*C*Rs**2) + (2*C*Rs*alpha - 1)/(2*C*Rs**2)}"
      ]
     },
     "metadata": {},
     "output_type": "display_data"
    }
   ],
   "source": [
    "\n",
    "import sympy as sp\n",
    "\n",
    "# Definiere Systemparameter als Symbole\n",
    "C, Rs, alpha, L1, L2 = sp.symbols('C Rs alpha L1 L2', positive=True, real=True)\n",
    "\n",
    "# Charakteristische Gleichung für den Beobachter\n",
    "char_eq = sp.Eq(L1 + L2 * Rs, 2 * alpha)\n",
    "char_eq2 = sp.Eq(L1 * L2 * Rs - L2 / C, alpha**2)\n",
    "\n",
    "# Löse nach L1 und L2\n",
    "solutions = sp.solve([char_eq, char_eq2], (L1, L2), dict=True)\n",
    "\n",
    "# Formatierte Ausgabe der Lösungen\n",
    "for sol in solutions:\n",
    "    display(sol)\n"
   ]
  },
  {
   "cell_type": "markdown",
   "id": "2d09818c",
   "metadata": {},
   "source": [
    "\n",
    "### **3.2 Wahl des Konvergenzfaktors \\( \\alpha \\)**\n",
    "Um die Konvergenz des Beobachters sinnvoll zu steuern, setzen wir:\n",
    "\n",
    "\\begin{equation}\n",
    "\\alpha = \\frac{10}{R_s C}.\n",
    "\\end{equation}\n",
    "\n",
    "Dies bewirkt, dass der Beobachter etwa **10-mal schneller als die physikalische Zeitkonstante** \\( R_s C \\) konvergiert.\n"
   ]
  },
  {
   "cell_type": "markdown",
   "id": "36759973",
   "metadata": {},
   "source": [
    "\n",
    "### **3.3 Numerische Berechnung der Verstärkungen**\n",
    "\n",
    "Setzt man die gegebenen Systemparameter ein:\n"
   ]
  },
  {
   "cell_type": "code",
   "execution_count": 10,
   "id": "a0a67ed4",
   "metadata": {},
   "outputs": [
    {
     "data": {
      "text/plain": [
       "{L1: 9.54545454545455 + 2.83863545381745*I,\n",
       " L2: 392.561983471074 - 129.02888426443*I}"
      ]
     },
     "metadata": {},
     "output_type": "display_data"
    },
    {
     "data": {
      "text/plain": [
       "{L1: 9.54545454545455 - 2.83863545381745*I,\n",
       " L2: 392.561983471074 + 129.02888426443*I}"
      ]
     },
     "metadata": {},
     "output_type": "display_data"
    }
   ],
   "source": [
    "\n",
    "# Numerische Werte definieren\n",
    "C_value = 50  # Kapazität in Farad\n",
    "Rs_value = 0.022  # Innenwiderstand in Ohm\n",
    "\n",
    "# Alpha numerisch berechnen\n",
    "alpha_value = 10 / (Rs_value * C_value)\n",
    "\n",
    "# Berechne L1 und L2 mit eingesetztem Alpha\n",
    "solutions_numeric = [{L1: sol[L1].subs({C: C_value, Rs: Rs_value, alpha: alpha_value}), \n",
    "                      L2: sol[L2].subs({C: C_value, Rs: Rs_value, alpha: alpha_value})} \n",
    "                     for sol in solutions]\n",
    "\n",
    "# Formatierte Ausgabe der numerischen Lösungen\n",
    "for sol in solutions_numeric:\n",
    "    display(sol)\n"
   ]
  },
  {
   "cell_type": "markdown",
   "id": "0d672957",
   "metadata": {},
   "source": [
    "\n",
    "## **4. Fazit**\n",
    "Dieses Notebook leitet die symbolischen Formeln für die Verstärkungen \\( L_1 \\) und \\( L_2 \\) her und berechnet diese anschließend numerisch für ein gegebenes System.\n",
    "\n",
    "Die Berechnung zeigt, dass die Verstärkungen von der Kapazität \\( C \\), dem Innenwiderstand \\( R_s \\) und der gewählten Konvergenzgeschwindigkeit \\( \\alpha \\) abhängen.\n",
    "Eine schnelle Konvergenz kann durch eine größere Wahl von \\( \\alpha \\) erzielt werden.\n"
   ]
  }
 ],
 "metadata": {
  "language_info": {
   "name": "python"
  }
 },
 "nbformat": 4,
 "nbformat_minor": 5
}
